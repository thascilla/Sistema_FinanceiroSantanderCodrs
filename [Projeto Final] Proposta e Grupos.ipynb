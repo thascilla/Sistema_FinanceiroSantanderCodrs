{
 "cells": [
  {
   "cell_type": "markdown",
   "metadata": {},
   "source": [
    "# Lógica de Programação II\n",
    "## Projeto Final - Sistema de Controle Financeiro"
   ]
  },
  {
   "cell_type": "markdown",
   "metadata": {},
   "source": [
    "Para finalizarmos nosso módulo de **Lógica de Programação II**, vamos desenvolver um pequeno \"sistema financeiro\" para gerenciar algumas operações! Este sistema deverá receber movimentações financeiras e armazená-las em um arquivo csv, ou json (à escolha de vocês)!\n",
    "\n",
    "O sistema deverá ser capaz de realizar as seguintes operações:\n",
    "\n",
    "- **Criar** novos registros e identificar a data em que o registro foi feito, qual foi tipo de movimentação, e seu valor.\n",
    "  - Os tipos de registros são três: despesas, receita ou investimento.\n",
    "    - No caso de **receita**, o valor deve ser tratado como numérico e armazenado normalmente.\n",
    "    - no caso de **despesas**, o valor deve ser recebido como positivo, mas armazenado como negativo.\n",
    "    - No caso de **investimento**, deveremos ter algumas informações adicionais: o valor que foi investido e a taxa de juros do investimento. Lembre-se de que o montante (M) para uma dada taxa de juros *i* após *t* dias pode ser calculado pela seguinte relação: $M = V * (1 + i)^t$ ([Saiba mais](https://matematicafinanceira.org/juros-compostos/)), considere o tempo em dias.\n",
    "- **Ler** registros: Deverá ser possível consultar os registros por data, tipo ou valor. Ou seja, se a pessoa usuária quiser consultar todos os registros do dia \"20/03/2023\", o sistema deve ser capaz de imprimir tudo que foi registrado naquela data. (Ou seja, neste caso, é necessário que o arquivo seja aberto e lido, filtrando resultados, quando necessário)\n",
    "- **Atualizar** registros: No caso de atualização, pode-se atualizar o valor e o tipo. Automaticamente, a nova data deverá ser a de atualização do registro.\n",
    "- **Deletar**: Deverá ser possível deletar o registro (caso necessário, considere o indice do elemento como ID).\n",
    "- Crie uma função que atualize os valores de rendimento sempre que chamada\n",
    "- Crie uma função 'exportar_relatorio', que exporte um relatorio final em csv ou json .\n",
    "- Crie pelo menos uma função de agrupamento, que seja capaz de mostrar o total de valor baseado em alguma informação (mês, tipo...). Esta função é de livre escolha do grupo. Pode ser, por exemplo, a média de receitas/despesas em um determinado mês, o rendimento médio dos investimentos em um dado período etc.\n",
    "- Crie valores separados para identificar a data (dia, mês, ano).\n",
    "\n",
    "---\n",
    "\n",
    "Atenção:\n",
    "- Não utilize a biblioteca pandas para resolução desse exercício!\n",
    "- Deem um nome criativo para a aplicação de vocês :)"
   ]
  },
  {
   "cell_type": "markdown",
   "metadata": {},
   "source": [
    "**Data de entrega:** 29/01/2024"
   ]
  },
  {
   "cell_type": "markdown",
   "metadata": {},
   "source": [
    "A entrega poderá ser por Git, ou por arquivo .ipynb enviado para os professores (ainda iremos combinar)."
   ]
  },
  {
   "cell_type": "markdown",
   "metadata": {},
   "source": [
    "___"
   ]
  },
  {
   "cell_type": "markdown",
   "metadata": {},
   "source": [
    "## Grupos"
   ]
  },
  {
   "cell_type": "markdown",
   "metadata": {},
   "source": [
    "|Grupo 1|Grupo 2| Grupo 3  | Grupo 4  | Grupo 5  | Grupo 6 |\n",
    "|---|---|---|---|---|---|\n",
    "| Rafael Becker Sentena (ele/dele)  | Ian Da Silva  |  Pablo Clélio Da Silva |  Débora Nunes Ferreira (Ela/dela) | Thatiana De Assis Napolitano  | Thiago De Almeida Breves |\n",
    "| Taciana Fernandes (Ela)  |  Lucas Guimarães Aureliano | Jessica Hora Dos Santos  |  Guilherme Richard Alves De Oliveira | Fernanda Regina Mistieri (Ela/dela)  | Luana Rodrigues Da Silva |\n",
    "| Guilherme Oliveira Da Silva  | Bianca Ramos De Oliveira (Ela/Dela) | Caio Ferreira Almeida  | Levy Marques Nunes  | João Gabriel Rossetto Martins Zwarg  | Thaísa Magalhães Elvas (Ela/dela) |\n",
    "| Thascilla Fonseca  |  Caio Cezar Garnier Brainer | Lindisley Horta Macedo  | Sormanny Pereira Ramos Junior (ele/dele)  |  Henricco Dal Molin Dos Santos  | Joao Victor Da Silva Sabino (Ele/Dele) |\n",
    "| Carlos Eduardo Caldeira  |   Camila Luiza Do Nascimento Moura | Alex Amaro (Ele)  | Lucindo Tomiosso Júnior  | Natalia Da Silva Loeblein (ela/dela)  |"
   ]
  }
 ],
 "metadata": {
  "kernelspec": {
   "display_name": "Python 3",
   "language": "python",
   "name": "python3"
  },
  "language_info": {
   "codemirror_mode": {
    "name": "ipython",
    "version": 3
   },
   "file_extension": ".py",
   "mimetype": "text/x-python",
   "name": "python",
   "nbconvert_exporter": "python",
   "pygments_lexer": "ipython3",
   "version": "3.8.5"
  }
 },
 "nbformat": 4,
 "nbformat_minor": 4
}
